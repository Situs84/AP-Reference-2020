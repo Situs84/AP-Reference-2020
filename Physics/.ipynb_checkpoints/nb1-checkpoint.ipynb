{
 "cells": [
  {
   "cell_type": "markdown",
   "metadata": {},
   "source": [
    "# AP Physics 1 Exam Reference\n",
    "### [Unit 1 - Kinematics](Kinetmatics.md)\n",
    "### [Unit 2 - Dynamics](Dynamics.md)\n",
    "### [Unit 3 - Circular Motion](Circular%20Motion.md)\n",
    "### [Unit 4 - Energy](Energy.md)\n",
    "### [Unit 5 - Momentum](Momentum.md)\n",
    "### [Unit 6 - Simple Harmonic Motion](SHM.md)\n",
    "### [Unit 7 - Torque and Rotational Motion](Torque.md)"
   ]
  },
  {
   "cell_type": "markdown",
   "metadata": {},
   "source": [
    "# Dynamics\n",
    "#### [&larr; Back](README.md)\n",
    "\n",
    "#### Gravitational Field\n",
    "$\\vec{g} = \\frac{\\vec{F}_g}{m}$\n",
    "#### Contact Forces\n",
    "$|\\vec{F}_f| \\leq \\mu |\\vec{F}_n|$ &ensp; Force Friction, Force Normal\n",
    "\\\n",
    "$|\\vec{F}_s| = k|\\vec{x}| $ &ensp; Force Spring, Spring Constant, Displacement\n",
    "#### Newton's First Law\n",
    "$\\vec{a} = \\frac{\\Sigma \\vec{F}}{m} \\hspace{15pt} \\vec{F}=m\\vec{a}$\n",
    "#### Newton's Second Law\n",
    "$v=v_{0}+at$\\\n",
    "$x = x_0 + v_{0}t + \\frac{1}{2}at^2$\\\n",
    "$v^2_x = v^2_{x0} + 2a_x(x-x_0)$"
   ]
  },
  {
   "cell_type": "markdown",
   "metadata": {},
   "source": [
    "# Circular Motion\n",
    "#### [&larr; Back](README.md)\n",
    "#### Gravitational and Electric Forces\n",
    "$|F_g|=G \\frac{m_1m_2}{r^2}$\\\n",
    "$\\vec{g}=\\frac{\\vec{F}_g}{m}$\n",
    "#### Applications of Circular Motion and Gravitation\n",
    "|Linear Motion|Rotational Motion|\n",
    "|-|-|\n",
    "|$$v=v_{0}+at$$                       |$$\\omega=\\omega_0+\\alpha t$$ |\n",
    "|$$x = x_0 + v_{0}t + \\frac{1}{2}at^2$$ |$$\\theta=\\theta_0+\\omega_0t+\\frac{1}{2}\\alpha t^2$$ | \n",
    "|$$v^2_x = v^2_{x0} + 2a_x(x-x_0)$$        |$$\\omega^2=\\omega_0^2+2\\alpha\\left(\\theta-\\theta_0\\right)^2$$ |\n",
    "\n",
    "$a_c = \\frac{v^2}{r}$\n",
    "<br>$F_c = \\frac{mv^2}{r}$\n",
    "\n",
    "Given a radius _r_ and a period of rotation _T_, derive and apply $v=\\frac{2\\pi r}{T}$"
   ]
  },
  {
   "cell_type": "markdown",
   "metadata": {},
   "source": [
    "# Energy\n",
    "#### [&larr; Back](README.md)\n",
    "$K$, $E_k$, and $KE$ are all symbols for Kinetic Energy\n",
    "<br>$U_g$ is a symbol for Gravitational Potential Energy\n",
    "<br>$U_s$ is a symbol for Spring Potential Energy\n",
    "#### Open and Closed Systems: Energy\n",
    "For all systems under all circumstances, energy, ~~charge,~~ linear momentum, and angular momentum are conserved.\n",
    "\n",
    "An interaction can be either a force exerted by objects outside the system or the transfer of some quantity with objects outside the system.\n",
    "#### Work and Mechanical Energy\n",
    "Change in kinetic energy ($\\Delta E_k$) of an object depends on force exerted and displacement of the object.\n",
    "\n",
    "$\\Delta E = W = F_\\parallel d= Fd\\cos(\\theta)$\n",
    "* ###### Net force exerted on an obect _perpendicular_ to the direction of     displacement of the object can change the direction of the object     __*without*__ changing the kinetic energy of the object\n",
    "\n",
    "$K = \\frac{1}{2}mv^2$\n",
    "<br>$K = \\frac{1}{2}I\\omega^2$\n",
    "<br>$\\Delta U_g = mg\\Delta y$\n",
    "<br>$U_G=-\\frac{Gm_1m_2}{r}$\n",
    "<br>$U_s=\\frac{1/2}kx^2$\n",
    "\n",
    "#### Conservation of Energy, the Work-Energy Principle, and Power\n",
    "\n",
    "$T_p = 2\\pi \\sqrt{\\frac{l}{g}}$\n",
    "* Period of a pendulum given length $l$ and gravity $g$ (positive).\n",
    "\n",
    "$T_s = 2\\pi \\sqrt{\\frac{m}{k}}$ \n",
    "* Period of a string given mass $m$ and Spring Constant $k$.\n",
    "\n",
    "$U_s=\\frac{1}{2}kx^2$\n",
    "* Potential Energy of a Spring given displacement $x$ and Spring Constant $k$.\n",
    "\n",
    "$\\Delta U_g = mg \\Delta y$ \n",
    "* Change in Gravitational Potential Energy given mass $m$, gravity $g$, and vertical positional change $\\Delta y$."
   ]
  },
  {
   "cell_type": "markdown",
   "metadata": {},
   "source": [
    "# Momentum\n",
    "#### [&larr; Back](README.md)\n",
    "#### Momentum and Impulse\n",
    "$\\vec{p} = m\\vec{v}$\n",
    "#### Representations of Changes in Momentum\n",
    "$\\vec{p}=\\vec{F}\\Delta{t}$\n",
    "#### Open and Closed Systems: Momentum\n",
    "* In a closed system, the linear momentum is constant throughout the collision, plus kinetic energy stays the same if the collision is elastic.\n"
   ]
  },
  {
   "cell_type": "markdown",
   "metadata": {},
   "source": [
    "# Simple Harmonic Motion\n",
    "#### [&larr; Back](README.md)\n",
    "#### Period of Simple Harmonic Oscillators\n",
    "Restoring forces can result in oscillatory motion.\n",
    "When a linear restoring force is exerted on an\n",
    "object displaced from an equilibrium position,\n",
    "the object will undergo a special type of motion\n",
    "called simple harmonic motion. Examples of this are pendulums and mass-spring oscillators when force is exerted on them by gravitational forces\n",
    "\n",
    "$\\star$__For a spring that exerts a linear restoring force, the period of a mass-spring oscillator increases with mass and decreases with spring stiffness.__\n",
    "<br>$\\star$__For a simple pendulum, the period increases with the length of the pendulum and decreases with the magnitude of the gravitational field__\n",
    "\n",
    "$T_p = 2\\pi \\sqrt{\\frac{l}{g}}$\n",
    "<br>$T_s = 2\\pi \\sqrt{\\frac{m}{k}}$\n",
    "#### Energy of a Simple Harmonic Oscillator\n",
    "$U_s=\\frac{1}{2}kx^2$\n",
    "<br>$\\Delta U_g = mg \\Delta y$"
   ]
  },
  {
   "cell_type": "markdown",
   "metadata": {},
   "source": [
    "# Torque and Rotational Motion\n",
    "#### [&larr; Back](README.md)\n",
    "#### Rotational Kinematics\n",
    "$\\vec{v}_{avg} = \\frac{\\Delta \\vec{x}}{\\Delta t}$\n",
    "<br>$\\vec{a}_{avg} = \\frac{\\Delta \\vec{v}}{\\Delta t}$\n",
    "\n",
    "|Linear Motion|Rotational Motion|\n",
    "|-|-|\n",
    "|$$v=v_{0}+at$$                       |$$\\omega=\\omega_0+\\alpha t$$ |\n",
    "|$$x = x_0 + v_{0}t + \\frac{1}{2}at^2$$ |$$\\theta=\\theta_0+\\omega_0t+\\frac{1}{2}\\alpha t^2$$ | \n",
    "|$$v^2_x = v^2_{x0} + 2a_x(x-x_0)$$        |$$\\omega^2=\\omega_0^2+2\\alpha\\left(\\theta-\\theta_0\\right)^2$$ |\n",
    "\n",
    "$a_c = \\frac{v^2}{r}$\n",
    "<br>$F_c = \\frac{mv^2}{r}$\n",
    "\n",
    "Given a radius _r_ and a period of rotation _T_, derive and apply $v=\\frac{2\\pi r}{T}$\n",
    "#### Torque and Angular Acceleration\n",
    "$\\tau = r_{\\Tiny \\perp} F = rF\\sin{\\theta}$\n",
    "<br>$\\alpha = \\frac{\\large\\Sigma \\tau}{I}$\n",
    "\n",
    "###### $L$ = Angular Momentum\n",
    "$L=I\\omega$\n",
    "<br>$\\Delta L = \\tau \\Delta t$\n",
    "<br>$L = mvr$\n",
    "\n",
    "#### Torque and Rotational Motion\n",
    "$I=mr^2$"
   ]
  }
 ],
 "metadata": {
  "kernelspec": {
   "display_name": "Python 3",
   "language": "python",
   "name": "python3"
  },
  "language_info": {
   "codemirror_mode": {
    "name": "ipython",
    "version": 3
   },
   "file_extension": ".py",
   "mimetype": "text/x-python",
   "name": "python",
   "nbconvert_exporter": "python",
   "pygments_lexer": "ipython3",
   "version": "3.8.2"
  }
 },
 "nbformat": 4,
 "nbformat_minor": 4
}
